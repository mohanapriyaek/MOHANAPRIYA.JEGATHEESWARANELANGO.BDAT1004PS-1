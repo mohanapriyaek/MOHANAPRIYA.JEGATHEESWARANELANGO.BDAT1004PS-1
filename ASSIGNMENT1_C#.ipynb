{
 "cells": [
  {
   "cell_type": "code",
   "execution_count": 1,
   "metadata": {},
   "outputs": [
    {
     "name": "stdout",
     "output_type": "stream",
     "text": [
      "\n",
      "\n",
      "QUESTION NUMBER 1\n",
      "\n",
      "System.Int32\n",
      "System.Double\n",
      "System.Boolean\n",
      "System.Char\n",
      "System.Int32\n",
      "System.Int32\n",
      "System.Int32\n",
      "System.Int32\n",
      "System.Int32\n",
      "System.Collections.Generic.List`1[System.Object]\n",
      "System.Boolean\n",
      "System.Double\n"
     ]
    }
   ],
   "source": [
    "Console.WriteLine(\"\\n\\nQUESTION NUMBER 1\\n\");\n",
    "dynamic v1 = 5;\n",
    "dynamic v2 = 5.0;\n",
    "dynamic v3 = 5 > 1;\n",
    "dynamic v4 = '5';\n",
    "dynamic v5 = 5 * 2;\n",
    "dynamic v6 = '5' * 2;\n",
    "dynamic v7 = '5' + '2';\n",
    "dynamic v8 = 5 / 2;\n",
    "dynamic v9 = 5%2;\n",
    "var v10 = new List<object>();\n",
    "                v10.Add(5);\n",
    "                v10.Add(2);\n",
    "                v10.Add(1);\n",
    "var v11 = new List<object>();\n",
    "                v11.Add(1);\n",
    "                v11.Add(4);\n",
    "                v11.Add(6);\n",
    "dynamic v12 = 3.14;\n",
    "Console.WriteLine(\"{0}\", v1.GetType());\n",
    "Console.WriteLine(\"{0}\", v2.GetType());\n",
    "Console.WriteLine(\"{0}\", v3.GetType());\n",
    "Console.WriteLine(\"{0}\", v4.GetType());\n",
    "Console.WriteLine(\"{0}\", v5.GetType());\n",
    "Console.WriteLine(\"{0}\", v6.GetType());\n",
    "Console.WriteLine(\"{0}\", v7.GetType());\n",
    "Console.WriteLine(\"{0}\", v8.GetType());\n",
    "Console.WriteLine(\"{0}\", v9.GetType());\n",
    "Console.WriteLine(\"{0}\", v10.GetType());\n",
    "Console.WriteLine(\"{0}\", v11.Contains(5).GetType());\n",
    "Console.WriteLine(\"{0}\", v12.GetType());"
   ]
  },
  {
   "cell_type": "code",
   "execution_count": 2,
   "metadata": {},
   "outputs": [
    {
     "name": "stdout",
     "output_type": "stream",
     "text": [
      "\n",
      "\n",
      "QUESTION NUMBER 2\n",
      "\n",
      "The lenth of first text is 34\n",
      "Yes, the text contatins the substring 'ice'\n",
      "The longest text is: Supercalifragilisticexpialidocious\n",
      "The first composer in the dictionary is: Bartok\n",
      "The last composer in the dictionary is: Buxtehude\n"
     ]
    }
   ],
   "source": [
    "Console.WriteLine(\"\\n\\nQUESTION NUMBER 2\\n\");\n",
    "string[] text = { \"Supercalifragilisticexpialidocious\", \"Honorificabilitudinitatibus\", \"Bababadalgharaghtakamminarronnkonn\" };\n",
    "\n",
    "//find the length of the first string\n",
    "Console.WriteLine(\"The lenth of first text is \" + text[0].Length);\n",
    "\n",
    "//find the substring occured or not\n",
    "if (text[0].Contains(\"ice\"))\n",
    "    Console.WriteLine(\"Yes, the text contatins the substring 'ice'\");\n",
    "else\n",
    "    Console.WriteLine(\"No, the text doesnot contatins the substring 'ice'\");\n",
    "\n",
    "//longest word\n",
    "string word = \"\";\n",
    "int ctr = 0;\n",
    "foreach (String st in text)\n",
    "{\n",
    "    if (text.Length > ctr)\n",
    "    {\n",
    "        word = st;\n",
    "        ctr = st.Length;\n",
    "    }\n",
    "}\n",
    "Console.WriteLine(\"The longest text is: \" + word);\n",
    "\n",
    " //Ascending order\n",
    "string[] name = { \"Berlioz\", \"Borodin\", \"Brian\", \"Bartok\", \"Bellini\", \"Buxtehude\", \"Bernstein\" };\n",
    "Array.Sort(name);\n",
    "Console.WriteLine(\"The first composer in the dictionary is: \" + name[0]);\n",
    "Console.WriteLine(\"The last composer in the dictionary is: \" + name[6]);"
   ]
  },
  {
   "cell_type": "code",
   "execution_count": 3,
   "metadata": {},
   "outputs": [
    {
     "name": "stdout",
     "output_type": "stream",
     "text": [
      "\n",
      "\n",
      "QUESTION NUMBER 3\n",
      "\n",
      "The area of triangle is: 1.7320508075688772\n"
     ]
    }
   ],
   "source": [
    "Console.WriteLine(\"\\n\\nQUESTION NUMBER 3\\n\");\n",
    "TriangleArea(2, 2, 2); //calling the fun\n",
    "void TriangleArea(double a, double b, double c)\n",
    "{\n",
    "    double s = (a + b + c) / 2; //Half of the triangle perimeter\n",
    "    double area = (double)Math.Sqrt(s * (s - a) * (s - b) * (s - c));  //Area of triangle usinh Heron's Formula\n",
    "    Console.WriteLine(\"The area of triangle is: \" + area);\n",
    "}"
   ]
  },
  {
   "cell_type": "code",
   "execution_count": 4,
   "metadata": {},
   "outputs": [
    {
     "name": "stdout",
     "output_type": "stream",
     "text": [
      "\n",
      "\n",
      "QUESTION NUMBER 4\n",
      "\n",
      "Element - 25 \n",
      "Element - 47 \n",
      "Element - 42 \n",
      "Element - 56 \n",
      "Element - 32 \n",
      "\n",
      "The Even Elements are:\n",
      " 42 56 32\n",
      "The Odd Elements are:\n",
      " 25 47"
     ]
    }
   ],
   "source": [
    "Console.WriteLine(\"\\n\\nQUESTION NUMBER 4\\n\");\n",
    "int i;\n",
    "int[] arr = new int[5];\n",
    "arr[0] = 25;\n",
    "arr[1] = 47;\n",
    "arr[2] = 42;\n",
    "arr[3] = 56;\n",
    "arr[4] = 32;\n",
    "for (i = 0; i < arr.Length; i++)\n",
    "{\n",
    "    Console.WriteLine(\"Element - {0} \", arr[i]);\n",
    "}\n",
    "Console.WriteLine(\"\\nThe Even Elements are:\");\n",
    "for (i = 0; i < 5; i++)\n",
    "{\n",
    "    if (arr[i] % 2 == 0) \n",
    "    {\n",
    "        Console.Write(\" \" + arr[i]);\n",
    "    }\n",
    "}\n",
    "Console.WriteLine(\"\\nThe Odd Elements are:\");\n",
    "for (i = 0; i < 5; i++)\n",
    "{\n",
    "    if (arr[i] % 2 != 0)\n",
    "    {\n",
    "        Console.Write(\" \" + arr[i]);\n",
    "    }\n",
    "}"
   ]
  },
  {
   "cell_type": "code",
   "execution_count": 5,
   "metadata": {},
   "outputs": [
    {
     "name": "stdout",
     "output_type": "stream",
     "text": [
      "\n",
      "\n",
      "QUESTION NUMBER 5\n",
      "\n",
      "True\n",
      "False\n",
      "True\n"
     ]
    }
   ],
   "source": [
    "Console.WriteLine(\"\\n\\nQUESTION NUMBER 5\\n\");\n",
    "inside(1,1,0,0,2,3);\n",
    "inside(1, 1, 0.3,0.5,1.1,0.7);\n",
    "inside(1, 1, 0.5,0.2,1.1,2);\n",
    "void inside(double x, double y, double x1, double y1, double x2, double y2)\n",
    "{\n",
    "    if (x > x1 && x < x2 && y > y1 && y < y2)\n",
    "    {\n",
    "        Console.WriteLine(\"True\");\n",
    "    }\n",
    "    else\n",
    "    {\n",
    "        Console.WriteLine(\"False\"); \n",
    "    }\n",
    "}"
   ]
  },
  {
   "cell_type": "code",
   "execution_count": null,
   "metadata": {},
   "outputs": [],
   "source": []
  }
 ],
 "metadata": {
  "kernelspec": {
   "display_name": ".NET (C#)",
   "language": "C#",
   "name": ".net-csharp"
  },
  "language_info": {
   "file_extension": ".cs",
   "mimetype": "text/x-csharp",
   "name": "C#",
   "pygments_lexer": "csharp",
   "version": "8.0"
  }
 },
 "nbformat": 4,
 "nbformat_minor": 4
}
