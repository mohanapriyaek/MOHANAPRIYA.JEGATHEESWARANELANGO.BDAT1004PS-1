{
 "cells": [
  {
   "cell_type": "markdown",
   "metadata": {},
   "source": [
    "# QUESTION 1 [C#]\n",
    "What are the datatypes of the following?\n",
    "\n",
    "5\n",
    "5.0\n",
    "5 > 1\n",
    "'5'\n",
    "5 * 2\n",
    "'5' * 2\n",
    "'5' + '2'\n",
    "5 / 2\n",
    "5 // 2\n",
    "[5, 2, 1]\n",
    "5 in [1, 4, 6]\n",
    "Pi (the number)"
   ]
  },
  {
   "cell_type": "markdown",
   "metadata": {},
   "source": [
    "| Variable      | Data Type                           \n",
    "| :---          |     --------------:|\n",
    "| 5             | Int                | \n",
    "| 5.0           | Double             |\n",
    "| 5>1           | Bool               |\n",
    "| '5'           | Char               |\n",
    "|5 * 2          | Int                |\n",
    "|'5' * 2        | Int                |\n",
    "|'5' + '2'      | Int                |            \n",
    "|5 / 2          | Int                |\n",
    "|5 // 2         | Int                |\n",
    "|[5, 2, 1]      | List               |\n",
    "|5 in [1, 4, 6] | Bool               |\n",
    "|Pi (the number)| Double             |"
   ]
  },
  {
   "cell_type": "markdown",
   "metadata": {},
   "source": [
    "# QUESTION 2\n",
    "Write (and evaluate) C# expressions that answer these questions:\n",
    "\n",
    "a. How many letters are there in 'Supercalifragilisticexpialidocious'?\n",
    "\n",
    "b. Does 'Supercalifragilisticexpialidocious' contain 'ice' as a substring?\n",
    "\n",
    "c. Which of the following words is the longest:\n",
    "Supercalifragilisticexpialidocious, Honorificabilitudinitatibus, or\n",
    "Bababadalgharaghtakamminarronnkonn?\n",
    "\n",
    "d. Which composer comes first in the dictionary: 'Berlioz', 'Borodin', 'Brian',\n",
    "'Bartok', 'Bellini', 'Buxtehude', 'Bernstein'. Which one comes last?"
   ]
  },
  {
   "cell_type": "markdown",
   "metadata": {},
   "source": [
    "1. The lenth of first text is 34\n",
    "2. Yes, the text contatins the substring 'ice'\n",
    "3. The longest text is: Supercalifragilisticexpialidocious\n",
    "4. The first composer in the dictionary is: Bartok\n",
    "5. The last composer in the dictionary is: Buxtehude"
   ]
  },
  {
   "cell_type": "markdown",
   "metadata": {},
   "source": [
    "# QUESTION 3\n",
    "Implement function triangleArea(a,b,c) that takes as input the lengths of the 3\n",
    "sides of a triangle and returns the area of the triangle. By Heron's formula, the area\n",
    "of a triangle with side lengths a, b, and c is\n",
    "s(s - a)(s -b)(s -c), where\n",
    "s = (a + b + c) /2."
   ]
  },
  {
   "cell_type": "markdown",
   "metadata": {},
   "source": [
    "The area of triangle is: 1.7320508075688772"
   ]
  },
  {
   "cell_type": "markdown",
   "metadata": {},
   "source": [
    "# QUESTION 4\n",
    "Write a program in C# Sharp to separate odd and even integers in separate arrays.\n",
    "Go to the editor\n",
    "Test Data :\n",
    "Input the number of elements to be stored in the array :5\n",
    "Input 5 elements in the array :\n",
    "element - 0 : 25\n",
    "element - 1 : 47\n",
    "element - 2 : 42\n",
    "element - 3 : 56\n",
    "element - 4 : 32"
   ]
  },
  {
   "cell_type": "markdown",
   "metadata": {},
   "source": [
    "Element - 0 25\n",
    "\n",
    "Element - 1 47\n",
    "\n",
    "Element - 2 42\n",
    "\n",
    "Element - 3 56\n",
    "\n",
    "Element - 4 32\n",
    "\n",
    "The Even Elements are:\n",
    "\n",
    " 42 56 32\n",
    " \n",
    "The Odd Elements are:\n",
    "\n",
    " 25 47"
   ]
  },
  {
   "cell_type": "markdown",
   "metadata": {},
   "source": [
    "# QUESTION 5\n",
    "a. Write a function inside(x,y,x1,y1,x2,y2) that returns True or False depending on whether the point (x,y) lies in the rectangle with lower left corner (x1,y1) and upper right corner (x2,y2).\n",
    "\n",
    "b. Use function inside() from part a. to write an expression that tests whether the point (1,1) lies in both of the following rectangles: one with lower left corner (0.3, 0.5) and upper right corner (1.1, 0.7) and the other with lower left corner (0.5, 0.2) and upper right corner (1.1, 2)."
   ]
  },
  {
   "cell_type": "markdown",
   "metadata": {},
   "source": [
    "a. True\n",
    "\n",
    "b1. False\n",
    "\n",
    "b2. True"
   ]
  },
  {
   "cell_type": "markdown",
   "metadata": {},
   "source": [
    "# QUESTION 6[PYTHON]\n",
    "You can turn a word into pig-Latin using the following two rules (simplified):\n",
    "\n",
    "• If the word starts with a consonant, move that letter to the end and append 'ay'. For example, 'happy' becomes 'appyhay' and 'pencil' becomes 'encilpay'.\n",
    "\n",
    "• If the word starts with a vowel, simply append 'way' to the end of the word. For example, 'enter' becomes 'enterway' and 'other' becomes 'otherway' . For our purposes, there are 5 vowels: a, e, i, o, u (so we count y as a consonant).\n",
    "\n",
    "Write a function pig() that takes a word (i.e., a string) as input and returns its pig-Latin form. Your function should still work if the input word contains upper case characters. Your output should always be lower case however."
   ]
  },
  {
   "cell_type": "code",
   "execution_count": 1,
   "metadata": {},
   "outputs": [
    {
     "name": "stdout",
     "output_type": "stream",
     "text": [
      "appyhay\n",
      "enterway\n"
     ]
    }
   ],
   "source": [
    "def pig(word):\n",
    "    VOWEL = ['a','e','i','o','u']\n",
    "    word=word.lower() #convert upper case into lower\n",
    "    if word[0] in VOWEL:\n",
    "        return word +\"way\"\n",
    "    else:\n",
    "        return word[1:]+word[:1]+\"ay\"\n",
    "print(pig('happy'))\n",
    "print(pig('Enter'))"
   ]
  },
  {
   "cell_type": "markdown",
   "metadata": {},
   "source": [
    "# QUESTION 7\n",
    "File bloodtype1.txt records blood-types of patients (A, B, AB, O or OO) at a clinic. Write a function bldcount() that reads the file with name and reports (i.e., prints) how many patients there are in each bloodtype"
   ]
  },
  {
   "cell_type": "code",
   "execution_count": 2,
   "metadata": {
    "scrolled": true
   },
   "outputs": [
    {
     "name": "stdout",
     "output_type": "stream",
     "text": [
      "There are 15 patients of blood type A\n",
      "There are 1 patients of blood type B\n",
      "There are 13 patients of blood type AB\n",
      "There are 15 patients of blood type O\n",
      "There are 0 patients of blood type OO\n"
     ]
    }
   ],
   "source": [
    "def bldcount(letter): \n",
    "    file = open(\"C:\\\\Users\\\\ganes\\\\Desktop\\\\bloodcount.txt\", \"r\") #Opening and reading the file from local directory\n",
    "    name = file.read().split() #spliting the values in the file\n",
    "    count = 0 \n",
    "    for char in name:  \n",
    "        if char == letter:\n",
    "            count += 1 \n",
    "    return count \n",
    "a= bldcount('A')\n",
    "b = bldcount('B')\n",
    "ab= bldcount('AB')\n",
    "o = bldcount('O')\n",
    "oo= bldcount('OO')\n",
    "print(\"There are\", a, \"patients of blood type A\")\n",
    "print(\"There are\", b, \"patients of blood type B\")\n",
    "print(\"There are\", ab, \"patients of blood type AB\")\n",
    "print(\"There are\", o, \"patients of blood type O\")\n",
    "print(\"There are\", oo, \"patients of blood type OO\")"
   ]
  },
  {
   "cell_type": "markdown",
   "metadata": {},
   "source": [
    "# QUESTION 8\n",
    "Write a function curconv() that takes as input:\n",
    "1. a currency represented using a string (e.g., 'JPY' for the Japanese Yen or 'EUR' for the Euro)\n",
    "2. an amount\n",
    "and then converts and returns the amount in US dollars"
   ]
  },
  {
   "cell_type": "code",
   "execution_count": 3,
   "metadata": {},
   "outputs": [
    {
     "name": "stdout",
     "output_type": "stream",
     "text": [
      "1.77643\n",
      "155.177355\n"
     ]
    }
   ],
   "source": [
    "def curconv(curr,amount):\n",
    "    value = 0\n",
    "    c = ['AUD','CHF','CNY','DKK','EUR','GBP','HKD','INR','JPY','MXN','MYR','NOK','NZD','PHP','SEK','SGD','THB'] #representing the currency in string\n",
    "    cv = [1.0345157,1.0237414,0.1550176,0.1651442,1.2296544,1.5550989,0.1270207,0.0177643,0.01241401,0.0751848,0.3145411,0.1677063,0.8003591,0.0233234,0.148269,0.788871,0.0313789]\n",
    "    for i in range(len(c)):\n",
    "        if c[i]== curr:\n",
    "            value = (amount * cv[i]) #Multyplying the currency\n",
    "    return value\n",
    "print(curconv('INR',100))\n",
    "print(curconv('AUD',150))"
   ]
  },
  {
   "cell_type": "markdown",
   "metadata": {},
   "source": [
    "# QUESTION 9\n",
    "Each of the following will cause an exception (an error). Identify what type of exception each will cause.\n",
    "\n",
    "1. Trying to add incompatible variables, as in adding 6 + ‘a’\n",
    "\n",
    "2. Referring to the 12th item of a list that has only 10 items\n",
    "\n",
    "3. Using a value that is out of range for a function’s input, such as calling math.sqrt( 1.0)\n",
    "\n",
    "4. Using an undeclared variable, such as print(x)\n",
    "\n",
    "5. when x has not been defined\n",
    "\n",
    "6. Trying to open a file that does not exist, such as mistyping the file name or looking in the wrong directory."
   ]
  },
  {
   "cell_type": "code",
   "execution_count": 4,
   "metadata": {},
   "outputs": [
    {
     "ename": "TypeError",
     "evalue": "unsupported operand type(s) for +: 'int' and 'str'",
     "output_type": "error",
     "traceback": [
      "\u001b[1;31m---------------------------------------------------------------------------\u001b[0m",
      "\u001b[1;31mTypeError\u001b[0m                                 Traceback (most recent call last)",
      "\u001b[1;32m<ipython-input-4-ef9d9e8fcb3a>\u001b[0m in \u001b[0;36m<module>\u001b[1;34m\u001b[0m\n\u001b[0;32m      1\u001b[0m \u001b[1;32mimport\u001b[0m \u001b[0mmath\u001b[0m\u001b[1;33m\u001b[0m\u001b[1;33m\u001b[0m\u001b[0m\n\u001b[1;32m----> 2\u001b[1;33m \u001b[0mprint\u001b[0m\u001b[1;33m(\u001b[0m\u001b[1;36m6\u001b[0m\u001b[1;33m+\u001b[0m\u001b[1;34m'a'\u001b[0m\u001b[1;33m)\u001b[0m\u001b[1;33m\u001b[0m\u001b[1;33m\u001b[0m\u001b[0m\n\u001b[0m",
      "\u001b[1;31mTypeError\u001b[0m: unsupported operand type(s) for +: 'int' and 'str'"
     ]
    }
   ],
   "source": [
    "import math\n",
    "print(6+'a')"
   ]
  },
  {
   "cell_type": "code",
   "execution_count": 5,
   "metadata": {},
   "outputs": [
    {
     "ename": "IndexError",
     "evalue": "list index out of range",
     "output_type": "error",
     "traceback": [
      "\u001b[1;31m---------------------------------------------------------------------------\u001b[0m",
      "\u001b[1;31mIndexError\u001b[0m                                Traceback (most recent call last)",
      "\u001b[1;32m<ipython-input-5-fef3647b780c>\u001b[0m in \u001b[0;36m<module>\u001b[1;34m\u001b[0m\n\u001b[0;32m      1\u001b[0m \u001b[0ma\u001b[0m\u001b[1;33m=\u001b[0m\u001b[1;33m[\u001b[0m\u001b[1;36m1\u001b[0m\u001b[1;33m,\u001b[0m\u001b[1;36m2\u001b[0m\u001b[1;33m,\u001b[0m\u001b[1;36m3\u001b[0m\u001b[1;33m,\u001b[0m\u001b[1;36m4\u001b[0m\u001b[1;33m,\u001b[0m\u001b[1;36m5\u001b[0m\u001b[1;33m,\u001b[0m\u001b[1;36m6\u001b[0m\u001b[1;33m,\u001b[0m\u001b[1;36m7\u001b[0m\u001b[1;33m,\u001b[0m\u001b[1;36m8\u001b[0m\u001b[1;33m,\u001b[0m\u001b[1;36m9\u001b[0m\u001b[1;33m,\u001b[0m\u001b[1;36m10\u001b[0m\u001b[1;33m]\u001b[0m\u001b[1;33m\u001b[0m\u001b[1;33m\u001b[0m\u001b[0m\n\u001b[1;32m----> 2\u001b[1;33m \u001b[0mprint\u001b[0m\u001b[1;33m(\u001b[0m\u001b[0ma\u001b[0m\u001b[1;33m[\u001b[0m\u001b[1;36m12\u001b[0m\u001b[1;33m]\u001b[0m\u001b[1;33m)\u001b[0m\u001b[1;33m\u001b[0m\u001b[1;33m\u001b[0m\u001b[0m\n\u001b[0m",
      "\u001b[1;31mIndexError\u001b[0m: list index out of range"
     ]
    }
   ],
   "source": [
    "a=[1,2,3,4,5,6,7,8,9,10]\n",
    "print(a[12])"
   ]
  },
  {
   "cell_type": "code",
   "execution_count": 6,
   "metadata": {},
   "outputs": [
    {
     "ename": "NameError",
     "evalue": "name 'x' is not defined",
     "output_type": "error",
     "traceback": [
      "\u001b[1;31m---------------------------------------------------------------------------\u001b[0m",
      "\u001b[1;31mNameError\u001b[0m                                 Traceback (most recent call last)",
      "\u001b[1;32m<ipython-input-6-fc17d851ef81>\u001b[0m in \u001b[0;36m<module>\u001b[1;34m\u001b[0m\n\u001b[1;32m----> 1\u001b[1;33m \u001b[0mprint\u001b[0m\u001b[1;33m(\u001b[0m\u001b[0mx\u001b[0m\u001b[1;33m)\u001b[0m\u001b[1;33m\u001b[0m\u001b[1;33m\u001b[0m\u001b[0m\n\u001b[0m",
      "\u001b[1;31mNameError\u001b[0m: name 'x' is not defined"
     ]
    }
   ],
   "source": [
    "print(x)"
   ]
  },
  {
   "cell_type": "code",
   "execution_count": 7,
   "metadata": {},
   "outputs": [
    {
     "ename": "FileNotFoundError",
     "evalue": "[Errno 2] No such file or directory: 'python.txt'",
     "output_type": "error",
     "traceback": [
      "\u001b[1;31m---------------------------------------------------------------------------\u001b[0m",
      "\u001b[1;31mFileNotFoundError\u001b[0m                         Traceback (most recent call last)",
      "\u001b[1;32m<ipython-input-7-fd007176f8cd>\u001b[0m in \u001b[0;36m<module>\u001b[1;34m\u001b[0m\n\u001b[1;32m----> 1\u001b[1;33m \u001b[0mfile\u001b[0m\u001b[1;33m=\u001b[0m \u001b[0mopen\u001b[0m\u001b[1;33m(\u001b[0m\u001b[1;34m\"python.txt\"\u001b[0m\u001b[1;33m)\u001b[0m\u001b[1;33m\u001b[0m\u001b[1;33m\u001b[0m\u001b[0m\n\u001b[0m",
      "\u001b[1;31mFileNotFoundError\u001b[0m: [Errno 2] No such file or directory: 'python.txt'"
     ]
    }
   ],
   "source": [
    "file= open(\"python.txt\")"
   ]
  },
  {
   "cell_type": "markdown",
   "metadata": {},
   "source": [
    "|Question Number| Exception                           \n",
    "| :---:          |                     -----------------------------------:|\n",
    "| 1             | TypeError                                               | \n",
    "| 2             | IndexError                                              |\n",
    "| 3             | ValueError                                                        |\n",
    "| 4             | NameError\n",
    "| 5             | NameError\n",
    "| 6             | FileNotFoundError"
   ]
  },
  {
   "cell_type": "markdown",
   "metadata": {},
   "source": [
    "# QUESTION 10\n",
    "Encryption is the process of hiding the meaning of a text by substituting letters in the message with other letters, according to some system. If the process is successful, no one but the intended recipient can understand the encrypted message. Cryptanalysis refers to attempts to undo the encryption, even if some details of the encryption are unknown (for example, if an encrypted message has been intercepted). \n",
    "\n",
    "The first step of cryptanalysis is often to build up a table of letter frequencies in the encrypted text. \n",
    "\n",
    "Assume that the string letters is already defined as 'abcdefghijklmnopqrstuvwxyz'. \n",
    "\n",
    "Write a function called frequencies() that takes a string as its only parameter, and returns a list of integers, showing the number of times each character appears in the text. \n",
    "\n",
    "Your function may ignore any characters that are not in letters."
   ]
  },
  {
   "cell_type": "code",
   "execution_count": null,
   "metadata": {
    "scrolled": false
   },
   "outputs": [
    {
     "name": "stdout",
     "output_type": "stream",
     "text": [
      "Enter the string: WElcome\n",
      "a 0\n",
      "b 0\n",
      "c 1\n",
      "d 0\n",
      "e 2\n",
      "f 0\n",
      "g 0\n",
      "h 0\n",
      "i 0\n",
      "j 0\n",
      "k 0\n",
      "l 1\n",
      "m 1\n",
      "n 0\n",
      "o 1\n",
      "p 0\n",
      "q 0\n",
      "r 0\n",
      "s 0\n",
      "t 0\n",
      "u 0\n",
      "v 0\n",
      "w 1\n",
      "x 0\n",
      "y 0\n",
      "z 0\n"
     ]
    }
   ],
   "source": [
    "def frequencies(x):\n",
    "    result = x - a\n",
    "    return result\n",
    "while True:\n",
    "    s = list('abcdefghijklmnopqrstuvwxyz')\n",
    "    n = len(s)\n",
    "    frequency = {}\n",
    "    d={}\n",
    "    string = input(\"Enter the string: \")\n",
    "    lowerlet = string.lower()\n",
    "    letters= list(lowerlet)\n",
    "    \n",
    "    for x in s:\n",
    "        frequency[x] = letters.count(x)\n",
    "    for x in frequency:\n",
    "        print(x,frequency[x])"
   ]
  },
  {
   "cell_type": "code",
   "execution_count": null,
   "metadata": {},
   "outputs": [],
   "source": []
  }
 ],
 "metadata": {
  "kernelspec": {
   "display_name": "Python 3",
   "language": "python",
   "name": "python3"
  },
  "language_info": {
   "codemirror_mode": {
    "name": "ipython",
    "version": 3
   },
   "file_extension": ".py",
   "mimetype": "text/x-python",
   "name": "python",
   "nbconvert_exporter": "python",
   "pygments_lexer": "ipython3",
   "version": "3.8.5"
  }
 },
 "nbformat": 4,
 "nbformat_minor": 4
}
